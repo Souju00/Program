{
  "nbformat": 4,
  "nbformat_minor": 0,
  "metadata": {
    "colab": {
      "provenance": [],
      "authorship_tag": "ABX9TyNQq7INdhLd8oxzboOT6yA7",
      "include_colab_link": true
    },
    "kernelspec": {
      "name": "python3",
      "display_name": "Python 3"
    },
    "language_info": {
      "name": "python"
    }
  },
  "cells": [
    {
      "cell_type": "markdown",
      "metadata": {
        "id": "view-in-github",
        "colab_type": "text"
      },
      "source": [
        "<a href=\"https://colab.research.google.com/github/Souju00/Program/blob/main/Untitled4.ipynb\" target=\"_parent\"><img src=\"https://colab.research.google.com/assets/colab-badge.svg\" alt=\"Open In Colab\"/></a>"
      ]
    },
    {
      "cell_type": "code",
      "execution_count": null,
      "metadata": {
        "id": "7BKerny8LL1t"
      },
      "outputs": [],
      "source": [
        "import pandas as pd\n",
        "from pprint import pprint\n",
        "from sklearn.feature_selection import mutual_info_classif\n",
        "\n",
        "def entropy(probs): \n",
        "    import math \n",
        "    return sum( [-prob*math.log(prob, 2) for prob in probs] )\n",
        "\n",
        "def entropy_of_list(a_list): \n",
        "    from collections import Counter \n",
        "    cnt = Counter(x for x in a_list) \n",
        "    print(\"No and Yes Classes:\",a_list.name,cnt) \n",
        "    num_instances = len(a_list)*1.0 \n",
        "    probs = [x / num_instances for x in cnt.values()] \n",
        "    return entropy(probs) # Call Entropy: \n",
        "\n",
        "total_entropy = entropy_of_list(df_tennis['PlayTennis']) \n",
        "print(\"Entropy of given PlayTennis Data Set:\",total_entropy)\n",
        "\n",
        "def id3(df, target_attribute, attribute_names, default_class=None):\n",
        "    \n",
        "    from collections import Counter\n",
        "    cnt=Counter(x for x in df[target_attribute])\n",
        "    if len(cnt)==1:\n",
        "        return next(iter(cnt))\n",
        "    \n",
        "    elif df.empty or (not attribute_names):\n",
        "         return default_class\n",
        "\n",
        "    else:\n",
        "        gainz = mutual_info_classif(df[attribute_names],df[target_attribute],discrete_features=True)\n",
        "        index_of_max=gainz.tolist().index(max(gainz))\n",
        "        best_attr=attribute_names[index_of_max]\n",
        "        tree={best_attr:{}}\n",
        "        remaining_attribute_names=[i for i in attribute_names if i!=best_attr]\n",
        "        for attr_val, data_subset in df.groupby(best_attr):\n",
        "            subtree=id3(data_subset, target_attribute, remaining_attribute_names,default_class)\n",
        "        \n",
        "            tree[best_attr][attr_val]=subtree\n",
        "        \n",
        "        return tree\n",
        "    \n",
        "\n",
        "df=pd.read_csv(\"D:/PlayTennis.csv\")\n",
        "# print(df)\n",
        "\n",
        "attribute_names=df.columns.tolist()\n",
        "print(\"List of attribut name\")\n",
        "\n",
        "attribute_names.remove(\"PlayTennis\")\n",
        "\n",
        "for colname in df.select_dtypes(\"object\"):\n",
        "    df[colname], _ = df[colname].factorize()\n",
        "    \n",
        "print(df)\n",
        "\n",
        "tree= id3(df,\"PlayTennis\", attribute_names)\n",
        "print(\"The tree structure\")\n",
        "pprint(tree)"
      ]
    }
  ]
}